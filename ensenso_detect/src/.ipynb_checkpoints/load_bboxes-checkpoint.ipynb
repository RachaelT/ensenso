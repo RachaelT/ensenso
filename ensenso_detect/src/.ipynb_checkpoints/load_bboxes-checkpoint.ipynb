{
 "cells": [
  {
   "cell_type": "code",
   "execution_count": 24,
   "metadata": {
    "collapsed": false
   },
   "outputs": [
    {
     "name": "stdout",
     "output_type": "stream",
     "text": [
      "302\n",
      "302\n",
      "302\n"
     ]
    }
   ],
   "source": [
    "import json\n",
    "import yaml\n",
    "\n",
    "faces_dict = dict()\n",
    "lefte_dict = dict()\n",
    "righte_dict = dict()\n",
    "\n",
    "# collect dict values into lists\n",
    "faces_l, left_l, right_l = [], [], []\n",
    "\n",
    "with open('data/faces_bboxes.txt') as faces_file:\n",
    "#     faces = json.load(faces_file)\n",
    "    faces = yaml.safe_load(faces_file)\n",
    "    for f in faces['faces']:\n",
    "        for k, v in f.items():\n",
    "            faces_dict[k] = v\n",
    "            faces_l.append(v)\n",
    "\n",
    "#load eye bounding boxes\n",
    "with open('data/left_eyes_bboxes.txt') as lefte_file:\n",
    "#     faces = json.load(faces_file)\n",
    "    left_eye = yaml.safe_load(lefte_file)\n",
    "    for f in left_eye['left_eyes']:\n",
    "        for k, v in f.items():\n",
    "            lefte_dict[k] = v\n",
    "            left_l.append(v)\n",
    "\n",
    "\n",
    "#load right eye bounding boxes\n",
    "with open('data/right_eyes_bboxes.txt') as righte_file:\n",
    "#     faces = json.load(faces_file)\n",
    "    right_eye = yaml.safe_load(righte_file)\n",
    "    for f in right_eye['right_eyes']:\n",
    "        for k, v in f.items():\n",
    "            righte_dict[k] = v\n",
    "            right_l.append(v)\n",
    "\n",
    "faceAndEyesDict = [faces_dict, lefte_dict, righte_dict]\n",
    "\n",
    "for k in [faces_l, left_l, right_l]:\n",
    "    print(len(k))"
   ]
  },
  {
   "cell_type": "code",
   "execution_count": 19,
   "metadata": {
    "collapsed": false
   },
   "outputs": [
    {
     "name": "stdout",
     "output_type": "stream",
     "text": [
      "[[[468, 496, 849, 496], [468, 939, 849, 939]], [[497, 521, 884, 521], [497, 931, 884, 931]]]\n",
      "(2, 2, 4)\n"
     ]
    },
    {
     "ename": "TypeError",
     "evalue": "list() takes at most 1 argument (3 given)",
     "output_type": "error",
     "traceback": [
      "\u001b[0;31m---------------------------------------------------------------------------\u001b[0m",
      "\u001b[0;31mTypeError\u001b[0m                                 Traceback (most recent call last)",
      "\u001b[0;32m<ipython-input-19-168c9dddae18>\u001b[0m in \u001b[0;36m<module>\u001b[0;34m()\u001b[0m\n\u001b[1;32m     18\u001b[0m \u001b[0;31m# print(faces_t)\u001b[0m\u001b[0;34m\u001b[0m\u001b[0;34m\u001b[0m\u001b[0m\n\u001b[1;32m     19\u001b[0m \u001b[0;34m\u001b[0m\u001b[0m\n\u001b[0;32m---> 20\u001b[0;31m \u001b[0mlist\u001b[0m\u001b[0;34m(\u001b[0m\u001b[0mfaces_l\u001b[0m\u001b[0;34m,\u001b[0m \u001b[0mleft_l\u001b[0m\u001b[0;34m,\u001b[0m \u001b[0mright_l\u001b[0m\u001b[0;34m)\u001b[0m\u001b[0;34m\u001b[0m\u001b[0m\n\u001b[0m",
      "\u001b[0;31mTypeError\u001b[0m: list() takes at most 1 argument (3 given)"
     ]
    }
   ],
   "source": [
    "face_d = faceAndEyesDict[0]\n",
    "left_d = faceAndEyesDict[1]\n",
    "right_d = faceAndEyesDict[2]\n",
    "\n",
    "\n",
    "face_1 = (face_d['face_259_image.jpg'])\n",
    "face_2 = face_d['face_258_image.jpg']\n",
    "faces = [face_1 , face_2]\n",
    "# for k, v in face_d.items():\n",
    "#     faces.append(v)\n",
    "\n",
    "import numpy as np\n",
    "print(faces)\n",
    "faces_np = np.array(faces)\n",
    "print(faces_np.shape)\n",
    "# import torch\n",
    "# faces_t = torch.stack(faces, 0)\n",
    "# print(faces_t)\n",
    "\n",
    "list(faces_l, left_l, right_l)"
   ]
  },
  {
   "cell_type": "code",
   "execution_count": 31,
   "metadata": {
    "collapsed": false
   },
   "outputs": [
    {
     "name": "stdout",
     "output_type": "stream",
     "text": [
      "302\n"
     ]
    }
   ],
   "source": [
    "from PIL import Image\n",
    "from os import listdir\n",
    "def loadImages( path):\n",
    "    # return array of images\n",
    "    imagesList = listdir(path)\n",
    "\n",
    "    loadedImages, faces_bbox = [], []\n",
    "\n",
    "    #load serially to ensure labels match\n",
    "    for image in imagesList:\n",
    "        img = Image.open(path + image)\n",
    "\n",
    "        loadedImages.append(img)\n",
    "\n",
    "    return loadedImages\n",
    "\n",
    "true = loadImages(\"../manikin/raw/face_images/\")\n",
    "print(len(true))"
   ]
  },
  {
   "cell_type": "code",
   "execution_count": 78,
   "metadata": {
    "collapsed": false
   },
   "outputs": [
    {
     "ename": "IndexError",
     "evalue": "axis 1 out of bounds [0, 1)",
     "output_type": "error",
     "traceback": [
      "\u001b[0;31m---------------------------------------------------------------------------\u001b[0m",
      "\u001b[0;31mIndexError\u001b[0m                                Traceback (most recent call last)",
      "\u001b[0;32m<ipython-input-78-33ab984447da>\u001b[0m in \u001b[0;36m<module>\u001b[0;34m()\u001b[0m\n\u001b[1;32m     15\u001b[0m \u001b[0;31m# print(np.array(faces_top).shape, np.array(faces_bot).shape)\u001b[0m\u001b[0;34m\u001b[0m\u001b[0;34m\u001b[0m\u001b[0m\n\u001b[1;32m     16\u001b[0m \u001b[0;31m# First 4 cols represent face boxes, last four cols are left and right eye centers\u001b[0m\u001b[0;34m\u001b[0m\u001b[0;34m\u001b[0m\u001b[0m\n\u001b[0;32m---> 17\u001b[0;31m \u001b[0mface_left_right\u001b[0m \u001b[0;34m=\u001b[0m \u001b[0mnp\u001b[0m\u001b[0;34m.\u001b[0m\u001b[0mconcatenate\u001b[0m\u001b[0;34m(\u001b[0m\u001b[0;34m(\u001b[0m\u001b[0mlabels\u001b[0m\u001b[0;34m,\u001b[0m \u001b[0mfaces_top\u001b[0m\u001b[0;34m,\u001b[0m \u001b[0mfaces_bot\u001b[0m\u001b[0;34m,\u001b[0m \u001b[0mleft_right\u001b[0m\u001b[0;34m)\u001b[0m\u001b[0;34m,\u001b[0m \u001b[0maxis\u001b[0m\u001b[0;34m=\u001b[0m\u001b[0;36m1\u001b[0m\u001b[0;34m)\u001b[0m\u001b[0;34m\u001b[0m\u001b[0m\n\u001b[0m\u001b[1;32m     18\u001b[0m \u001b[0;34m\u001b[0m\u001b[0m\n\u001b[1;32m     19\u001b[0m \u001b[0;32mprint\u001b[0m\u001b[0;34m(\u001b[0m\u001b[0mface_left_right\u001b[0m\u001b[0;34m.\u001b[0m\u001b[0mshape\u001b[0m\u001b[0;34m)\u001b[0m\u001b[0;34m\u001b[0m\u001b[0m\n",
      "\u001b[0;31mIndexError\u001b[0m: axis 1 out of bounds [0, 1)"
     ]
    }
   ],
   "source": [
    "import numpy as np\n",
    "\n",
    "left_right = np.concatenate((left_l, right_l), axis=1)\n",
    "\n",
    "#split faces list of lists to ease numpy concatenation\n",
    "faces_top, faces_bot = [], []\n",
    "\n",
    "#arrange faces_l into a 1x8 array\n",
    "for i in range(len(faces_l)):\n",
    "    faces_top.append(faces_l[i][0])\n",
    "    faces_bot.append(faces_l[i][1])\n",
    "\n",
    "labels = [1] * len(faces_top)\n",
    "# print(labels.shape)\n",
    "# print(np.array(faces_top).shape, np.array(faces_bot).shape)\n",
    "# First 4 cols represent face boxes, last four cols are left and right eye centers\n",
    "face_left_right = np.concatenate((faces_top, faces_bot, left_right), axis=1)\n",
    "\n",
    "print(face_left_right.shape)"
   ]
  }
 ],
 "metadata": {
  "kernelspec": {
   "display_name": "Python 2",
   "language": "python",
   "name": "python2"
  },
  "language_info": {
   "codemirror_mode": {
    "name": "ipython",
    "version": 2
   },
   "file_extension": ".py",
   "mimetype": "text/x-python",
   "name": "python",
   "nbconvert_exporter": "python",
   "pygments_lexer": "ipython2",
   "version": "2.7.13"
  }
 },
 "nbformat": 4,
 "nbformat_minor": 2
}
