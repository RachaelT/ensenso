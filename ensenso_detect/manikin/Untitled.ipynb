{
 "cells": [
  {
   "cell_type": "code",
   "execution_count": 7,
   "metadata": {
    "collapsed": false
   },
   "outputs": [
    {
     "data": {
      "text/plain": [
       "\n",
       " 0.5960  1.9048  1.1163\n",
       "-0.7776  1.7256  0.4337\n",
       "[torch.DoubleTensor of size 2x3]"
      ]
     },
     "execution_count": 7,
     "metadata": {},
     "output_type": "execute_result"
    }
   ],
   "source": [
    "import numpy as np\n",
    "import torch\n",
    "torch.set_default_tensor_type('torch.DoubleTensor')\n",
    "def toCuda(x):\n",
    "    return x.cuda()\n",
    "    \n",
    "x = torch.from_numpy(np.random.randint(1, high=10, size=10))#.float()\n",
    "xx = torch.from_numpy(np.random.randint(1, high=10, size=10))#.float()\n",
    "y = torch.from_numpy(np.random.randint(1, high=10, size=10))#.float()\n",
    "yy = torch.from_numpy(np.random.randint(1, high=10, size=10))#.float()\n",
    "\n",
    "u = [x, xx, y, yy]\n",
    "# y = [print(x) for x in u]\n",
    "# print(uu)\n",
    "\n",
    "kk = torch.Tensor(torch.randn(2,3))\n",
    "kk"
   ]
  },
  {
   "cell_type": "code",
   "execution_count": 32,
   "metadata": {
    "collapsed": false
   },
   "outputs": [
    {
     "name": "stdout",
     "output_type": "stream",
     "text": [
      "['fake', 'real', 'fake', 'real', 'fake', 'real', 'fake', 'real', 'fake', 'real']\n"
     ]
    }
   ],
   "source": [
    "import json\n",
    "import numpy as np\n",
    "labels_file = open('labels.json').read()\n",
    "labels = json.loads(labels_file)\n",
    "# labels_numpy = np.fromiter(labels, int)\n",
    "# labels  = labels[\"0\"]\n",
    "classes = [labels[\"0\"], labels[\"1\"]]\n",
    "classes *= 5\n",
    "print(classes)"
   ]
  },
  {
   "cell_type": "code",
   "execution_count": 8,
   "metadata": {
    "collapsed": false
   },
   "outputs": [],
   "source": [
    "import torch\n",
    "import numpy as np\n",
    "from random import shuffle\n",
    "a = torch.Tensor(2,2, 3).fill_(1)\n",
    "b = torch.Tensor(2,2, 3).fill_(2)\n",
    "c = torch.Tensor(2,2, 3).fill_(3)\n",
    "d = torch.Tensor(2,2, 3).fill_(4)\n",
    "\n",
    "l = [a, b, c, d]\n",
    "shuffle(l)\n"
   ]
  },
  {
   "cell_type": "code",
   "execution_count": 10,
   "metadata": {
    "collapsed": false
   },
   "outputs": [
    {
     "name": "stdout",
     "output_type": "stream",
     "text": [
      "Help on class ToTensor in module torchvision.transforms:\n",
      "\n",
      "class ToTensor(builtins.object)\n",
      " |  Converts a PIL.Image or numpy.ndarray (H x W x C) in the range\n",
      " |  [0, 255] to a torch.FloatTensor of shape (C x H x W) in the range [0.0, 1.0].\n",
      " |  \n",
      " |  Methods defined here:\n",
      " |  \n",
      " |  __call__(self, pic)\n",
      " |      Call self as a function.\n",
      " |  \n",
      " |  ----------------------------------------------------------------------\n",
      " |  Data descriptors defined here:\n",
      " |  \n",
      " |  __dict__\n",
      " |      dictionary for instance variables (if defined)\n",
      " |  \n",
      " |  __weakref__\n",
      " |      list of weak references to the object (if defined)\n",
      "\n"
     ]
    }
   ],
   "source": [
    "\n",
    "import torchvision.transforms as transforms\n",
    "help(transforms.ToTensor)"
   ]
  },
  {
   "cell_type": "code",
   "execution_count": null,
   "metadata": {
    "collapsed": true
   },
   "outputs": [],
   "source": []
  }
 ],
 "metadata": {
  "kernelspec": {
   "display_name": "Python 3",
   "language": "python",
   "name": "python3"
  },
  "language_info": {
   "codemirror_mode": {
    "name": "ipython",
    "version": 3
   },
   "file_extension": ".py",
   "mimetype": "text/x-python",
   "name": "python",
   "nbconvert_exporter": "python",
   "pygments_lexer": "ipython3",
   "version": "3.6.0"
  }
 },
 "nbformat": 4,
 "nbformat_minor": 2
}
