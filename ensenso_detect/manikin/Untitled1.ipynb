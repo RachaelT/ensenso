{
 "cells": [
  {
   "cell_type": "code",
   "execution_count": 3,
   "metadata": {
    "collapsed": true
   },
   "outputs": [],
   "source": [
    "from cv_bridge import CvBridge, CvBridgeError\n",
    "from sensor_msgs.msg import Image"
   ]
  },
  {
   "cell_type": "code",
   "execution_count": 11,
   "metadata": {
    "collapsed": false
   },
   "outputs": [
    {
     "name": "stdout",
     "output_type": "stream",
     "text": [
      "Help on CvBridge in module cv_bridge.core object:\n",
      "\n",
      "class CvBridge(builtins.object)\n",
      " |  The CvBridge is an object that converts between OpenCV Images and ROS Image messages.\n",
      " |  \n",
      " |     .. doctest::\n",
      " |         :options: -ELLIPSIS, +NORMALIZE_WHITESPACE\n",
      " |  \n",
      " |         >>> import cv2\n",
      " |         >>> import numpy as np\n",
      " |         >>> from cv_bridge import CvBridge\n",
      " |         >>> br = CvBridge()\n",
      " |         >>> dtype, n_channels = br.encoding_as_cvtype2('8UC3')\n",
      " |         >>> im = np.ndarray(shape=(480, 640, n_channels), dtype=dtype)\n",
      " |         >>> msg = br.cv2_to_imgmsg(im)  # Convert the image to a message\n",
      " |         >>> im2 = br.imgmsg_to_cv2(msg) # Convert the message to a new image\n",
      " |         >>> cmprsmsg = br.cv2_to_compressed_imgmsg(im)  # Convert the image to a compress message\n",
      " |         >>> im22 = br.compressed_imgmsg_to_cv2(msg) # Convert the compress message to a new image\n",
      " |         >>> cv2.imwrite(\"this_was_a_message_briefly.png\", im2)\n",
      " |  \n",
      " |  Methods defined here:\n",
      " |  \n",
      " |  __init__(self)\n",
      " |      Initialize self.  See help(type(self)) for accurate signature.\n",
      " |  \n",
      " |  compressed_imgmsg_to_cv2(self, cmprs_img_msg, desired_encoding='passthrough')\n",
      " |      Convert a sensor_msgs::CompressedImage message to an OpenCV :cpp:type:`cv::Mat`.\n",
      " |      \n",
      " |      :param cmprs_img_msg:   A :cpp:type:`sensor_msgs::CompressedImage` message\n",
      " |      :param desired_encoding:  The encoding of the image data, one of the following strings:\n",
      " |      \n",
      " |         * ``\"passthrough\"``\n",
      " |         * one of the standard strings in sensor_msgs/image_encodings.h\n",
      " |      \n",
      " |      :rtype: :cpp:type:`cv::Mat`\n",
      " |      :raises CvBridgeError: when conversion is not possible.\n",
      " |      \n",
      " |      If desired_encoding is ``\"passthrough\"``, then the returned image has the same format as img_msg.\n",
      " |      Otherwise desired_encoding must be one of the standard image encodings\n",
      " |      \n",
      " |      This function returns an OpenCV :cpp:type:`cv::Mat` message on success, or raises :exc:`cv_bridge.CvBridgeError` on failure.\n",
      " |      \n",
      " |      If the image only has one channel, the shape has size 2 (width and height)\n",
      " |  \n",
      " |  cv2_to_compressed_imgmsg(self, cvim, dst_format='jpg')\n",
      " |      Convert an OpenCV :cpp:type:`cv::Mat` type to a ROS sensor_msgs::CompressedImage message.\n",
      " |      \n",
      " |      :param cvim:      An OpenCV :cpp:type:`cv::Mat`\n",
      " |      :param dst_format:  The format of the image data, one of the following strings:\n",
      " |      \n",
      " |         * from http://docs.opencv.org/2.4/modules/highgui/doc/reading_and_writing_images_and_video.html\n",
      " |         * from http://docs.opencv.org/2.4/modules/highgui/doc/reading_and_writing_images_and_video.html#Mat imread(const string& filename, int flags)\n",
      " |         * bmp, dib\n",
      " |         * jpeg, jpg, jpe\n",
      " |         * jp2\n",
      " |         * png\n",
      " |         * pbm, pgm, ppm\n",
      " |         * sr, ras\n",
      " |         * tiff, tif\n",
      " |      \n",
      " |      :rtype:           A sensor_msgs.msg.CompressedImage message\n",
      " |      :raises CvBridgeError: when the ``cvim`` has a type that is incompatible with ``format``\n",
      " |      \n",
      " |      \n",
      " |      This function returns a sensor_msgs::Image message on success, or raises :exc:`cv_bridge.CvBridgeError` on failure.\n",
      " |  \n",
      " |  cv2_to_imgmsg(self, cvim, encoding='passthrough')\n",
      " |      Convert an OpenCV :cpp:type:`cv::Mat` type to a ROS sensor_msgs::Image message.\n",
      " |      \n",
      " |      :param cvim:      An OpenCV :cpp:type:`cv::Mat`\n",
      " |      :param encoding:  The encoding of the image data, one of the following strings:\n",
      " |      \n",
      " |         * ``\"passthrough\"``\n",
      " |         * one of the standard strings in sensor_msgs/image_encodings.h\n",
      " |      \n",
      " |      :rtype:           A sensor_msgs.msg.Image message\n",
      " |      :raises CvBridgeError: when the ``cvim`` has a type that is incompatible with ``encoding``\n",
      " |      \n",
      " |      If encoding is ``\"passthrough\"``, then the message has the same encoding as the image's OpenCV type.\n",
      " |      Otherwise desired_encoding must be one of the standard image encodings\n",
      " |      \n",
      " |      This function returns a sensor_msgs::Image message on success, or raises :exc:`cv_bridge.CvBridgeError` on failure.\n",
      " |  \n",
      " |  cvtype2_to_dtype_with_channels(self, cvtype)\n",
      " |  \n",
      " |  dtype_with_channels_to_cvtype2(self, dtype, n_channels)\n",
      " |  \n",
      " |  encoding_to_cvtype2(self, encoding)\n",
      " |  \n",
      " |  encoding_to_dtype_with_channels(self, encoding)\n",
      " |  \n",
      " |  imgmsg_to_cv2(self, img_msg, desired_encoding='passthrough')\n",
      " |      Convert a sensor_msgs::Image message to an OpenCV :cpp:type:`cv::Mat`.\n",
      " |      \n",
      " |      :param img_msg:   A :cpp:type:`sensor_msgs::Image` message\n",
      " |      :param desired_encoding:  The encoding of the image data, one of the following strings:\n",
      " |      \n",
      " |         * ``\"passthrough\"``\n",
      " |         * one of the standard strings in sensor_msgs/image_encodings.h\n",
      " |      \n",
      " |      :rtype: :cpp:type:`cv::Mat`\n",
      " |      :raises CvBridgeError: when conversion is not possible.\n",
      " |      \n",
      " |      If desired_encoding is ``\"passthrough\"``, then the returned image has the same format as img_msg.\n",
      " |      Otherwise desired_encoding must be one of the standard image encodings\n",
      " |      \n",
      " |      This function returns an OpenCV :cpp:type:`cv::Mat` message on success, or raises :exc:`cv_bridge.CvBridgeError` on failure.\n",
      " |      \n",
      " |      If the image only has one channel, the shape has size 2 (width and height)\n",
      " |  \n",
      " |  ----------------------------------------------------------------------\n",
      " |  Data descriptors defined here:\n",
      " |  \n",
      " |  __dict__\n",
      " |      dictionary for instance variables (if defined)\n",
      " |  \n",
      " |  __weakref__\n",
      " |      list of weak references to the object (if defined)\n",
      "\n"
     ]
    }
   ],
   "source": [
    "bridge = CvBridge()\n",
    "bre = CvBridgeError()\n",
    "help(bridge)\n",
    "# help(bre)"
   ]
  },
  {
   "cell_type": "code",
   "execution_count": 10,
   "metadata": {
    "collapsed": false
   },
   "outputs": [
    {
     "name": "stdout",
     "output_type": "stream",
     "text": [
      "Help on built-in function imdecode:\n",
      "\n",
      "imdecode(...)\n",
      "    imdecode(buf, flags) -> retval\n",
      "\n"
     ]
    }
   ],
   "source": [
    "import cv2\n",
    "help(cv2.imdecode)"
   ]
  },
  {
   "cell_type": "code",
   "execution_count": null,
   "metadata": {
    "collapsed": true
   },
   "outputs": [],
   "source": []
  }
 ],
 "metadata": {
  "kernelspec": {
   "display_name": "Python 3",
   "language": "python",
   "name": "python3"
  },
  "language_info": {
   "codemirror_mode": {
    "name": "ipython",
    "version": 3
   },
   "file_extension": ".py",
   "mimetype": "text/x-python",
   "name": "python",
   "nbconvert_exporter": "python",
   "pygments_lexer": "ipython3",
   "version": "3.6.0"
  }
 },
 "nbformat": 4,
 "nbformat_minor": 2
}
